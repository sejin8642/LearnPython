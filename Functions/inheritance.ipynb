{
 "cells": [
  {
   "cell_type": "markdown",
   "metadata": {},
   "source": [
    "# Python Inheritance and Super()"
   ]
  },
  {
   "cell_type": "markdown",
   "metadata": {},
   "source": [
    "Inheritance allows us to define a class that inherits all the methods and properties from another class. Parent class is the class being inherited from, also called base class. Child class is the class that inherits from another class, also called derived class."
   ]
  },
  {
   "cell_type": "markdown",
   "metadata": {},
   "source": [
    "Here's a simple class definition with initialization method"
   ]
  },
  {
   "cell_type": "code",
   "execution_count": 2,
   "metadata": {},
   "outputs": [],
   "source": [
    "# Simple class definition\n",
    "class Person:\n",
    "    def __init__(self, fname, lname):\n",
    "        self.firstname = fname\n",
    "        self.lastname = lname\n",
    "        \n",
    "    def printname(self):\n",
    "        print(self.firstname, self.lastname)"
   ]
  },
  {
   "cell_type": "code",
   "execution_count": 3,
   "metadata": {},
   "outputs": [
    {
     "name": "stdout",
     "output_type": "stream",
     "text": [
      "Sejin Nam\n"
     ]
    }
   ],
   "source": [
    "x = Person(\"Sejin\", \"Nam\")\n",
    "x.printname()"
   ]
  },
  {
   "cell_type": "markdown",
   "metadata": {},
   "source": [
    "You can inherit the methods of the parent class as below. Note that the child class does not automatically inherit initialization method, only function methods are passed on."
   ]
  },
  {
   "cell_type": "code",
   "execution_count": 12,
   "metadata": {},
   "outputs": [],
   "source": [
    "# Creating a child class\n",
    "class Student(Person):\n",
    "    def __init__(self, fname, lname, college, major):\n",
    "        self.firstname = fname\n",
    "        self.lastname = lname\n",
    "        self.college = college\n",
    "        self.major = major\n",
    "    \n",
    "    def printmajor(self):\n",
    "        print(self.firstname, \"is studying\", self.major, \"at\", self.college)"
   ]
  },
  {
   "cell_type": "code",
   "execution_count": 9,
   "metadata": {},
   "outputs": [],
   "source": [
    "y = Student(\"Sejin\", \"Nam\", \"UH Manoa\", \"Physics\")"
   ]
  },
  {
   "cell_type": "code",
   "execution_count": 10,
   "metadata": {},
   "outputs": [
    {
     "name": "stdout",
     "output_type": "stream",
     "text": [
      "Sejin is studying Physics at UH Manoa\n"
     ]
    }
   ],
   "source": [
    "y.printmajor()"
   ]
  },
  {
   "cell_type": "code",
   "execution_count": 11,
   "metadata": {},
   "outputs": [
    {
     "name": "stdout",
     "output_type": "stream",
     "text": [
      "Sejin Nam\n"
     ]
    }
   ],
   "source": [
    "y.printname()"
   ]
  },
  {
   "cell_type": "markdown",
   "metadata": {},
   "source": [
    "Note that the child's __init__() function overrides the inheritance of the parent's __init__() function. Thus, to keep the inheritance of the parent's __init__() function, add a call to the parent's __init__() function"
   ]
  },
  {
   "cell_type": "code",
   "execution_count": 16,
   "metadata": {},
   "outputs": [],
   "source": [
    "# Calling parent's __init__() inside the child's __init__()\n",
    "class Gamer(Person):\n",
    "    def __init__(self, fname, lname, game):\n",
    "        Person.__init__(self, fname, lname)\n",
    "        self.game = game\n",
    "    \n",
    "    def printgame(self):\n",
    "        print(self.firstname, \"plays\", self.game)"
   ]
  },
  {
   "cell_type": "code",
   "execution_count": 17,
   "metadata": {},
   "outputs": [],
   "source": [
    "z = Gamer(\"Sejin\", \"Nam\", \"Chess\")"
   ]
  },
  {
   "cell_type": "code",
   "execution_count": 18,
   "metadata": {},
   "outputs": [
    {
     "name": "stdout",
     "output_type": "stream",
     "text": [
      "Sejin plays Chess\n"
     ]
    }
   ],
   "source": [
    "z.printgame()"
   ]
  },
  {
   "cell_type": "markdown",
   "metadata": {},
   "source": [
    "Python also has a super() function enables class inheritance more manageable and extensible."
   ]
  },
  {
   "cell_type": "code",
   "execution_count": 22,
   "metadata": {},
   "outputs": [],
   "source": [
    "# A child's class from Gamer parent class with super()\n",
    "class Asian(Gamer):\n",
    "    def __init__(self, fname, lname, game, nat):\n",
    "        super().__init__(fname, lname, game)\n",
    "        self.nat = nat\n",
    "    \n",
    "    def printnat(self):\n",
    "        print(self.firstname, \"is a national of\", self.nat)"
   ]
  },
  {
   "cell_type": "code",
   "execution_count": 25,
   "metadata": {},
   "outputs": [],
   "source": [
    "a = Asian(\"Sejin\", \"Nam\", \"Chess\", \"Korea\")"
   ]
  },
  {
   "cell_type": "code",
   "execution_count": 26,
   "metadata": {},
   "outputs": [
    {
     "name": "stdout",
     "output_type": "stream",
     "text": [
      "Sejin is a national of Korea\n"
     ]
    }
   ],
   "source": [
    "a.printnat()"
   ]
  },
  {
   "cell_type": "code",
   "execution_count": null,
   "metadata": {},
   "outputs": [],
   "source": []
  }
 ],
 "metadata": {
  "kernelspec": {
   "display_name": "Python 3",
   "language": "python",
   "name": "python3"
  },
  "language_info": {
   "codemirror_mode": {
    "name": "ipython",
    "version": 3
   },
   "file_extension": ".py",
   "mimetype": "text/x-python",
   "name": "python",
   "nbconvert_exporter": "python",
   "pygments_lexer": "ipython3",
   "version": "3.8.3"
  }
 },
 "nbformat": 4,
 "nbformat_minor": 4
}
